{
 "cells": [
  {
   "cell_type": "code",
   "execution_count": 2,
   "id": "a84375a3",
   "metadata": {},
   "outputs": [],
   "source": [
    "import pandas as pd\n",
    "import urllib.request\n",
    "import time\n",
    "from time import sleep\n",
    "import selenium\n",
    "from selenium import webdriver as wb\n",
    "from selenium.webdriver.common.action_chains import ActionChains"
   ]
  },
  {
   "cell_type": "code",
   "execution_count": 3,
   "id": "651026a7",
   "metadata": {},
   "outputs": [
    {
     "data": {
      "text/plain": [
       "[{'game_name': 'Toodee and Topdee',\n",
       "  'comments': \"This game slaps!,A devilishly clever puzzle platformer. Super-polished and a heck of a lot of fun. Soundtrack absolutely slaps.,This game is awesome! Just got it and played through the first couple levels with my girlfriend and we both love it! i would highly recommend this game to anyone who likes platformers and/or puzzle games.,Great game with an interesting gameplay mechanic! I don't think I've ever seen a game with a mechanic like this before. I'd recommend it to anyone who likes interesting and engaging puzzle platformers.,\"},\n",
       " {'game_name': 'Stellar Warfare',\n",
       "  'comments': \"A Space RTS game that has great base building elements, beautiful visuals (especially the space combat) which is a lightshow and gives off Star Wars and Star Trek vibes. Combine all this with a fun salvage system for new weapon blueprints, ship blueprints and more and you've got yourself a space rts game, thats fun to play, with lovely visuals and audio that you can play with your friends. Also has a variety of game modes which ensures you never got bored and the game doesn't grow stale after a while.\\n\\nI've had access and played this game since way before launch day, and i'm proud of the work that's been put in by the solo dev Thomas and the progress that's been made since i first received a copy of the game.\\n\\nI would 10/10 recommend this game to any RTS fans or even just Space game enthusiasts out there as the game is simple to learn without much micro to worry about unlike the vast majority of micro heavy RTS games on the market.,Awesome old school feeling rts. If you enjoy Homeworld 2, chances are this will feel very similar to you.\\n\\nThe dev is very active, and listens to the community.\\n\\nI have about 30 hour pre steam release.,cool game. cooler explosions,I’ve been playing the game over the last year as part of the Early backers gang and have to say that the development has been fantastic over that time.\\n\\nThe developer is really engaged with his community and is constantly updating and working on the game, releasing updates on a pretty much weekly basis.\\n\\nIf you love any form of RTS/space games with a multiplayer or single player mode, then this is 100% worth your time!,\"},\n",
       " {'game_name': 'Rick Henderson',\n",
       "  'comments': 'Like this Review? Follow The Cpt Froggy Club Curator Page for plenty more!\\n\\nRick Henderson\\n~~~~~~~~~~~~~\\n\\nRick Henderson brings in a familiar flavor of a classic arcade experience. Developed by Fat Pug Studio’s, Rick Henderson is an endless horizontal scrolling space shooter.\\n\\nRick Henderson is paying a big tip of the hat towards old school 16-bit shoot ‘em ups.\\n\\nGameplay: As soon as you get into the game, you will be thrown off guard because of the lack of pointers and button maps. And not only that, but the game doesn’t let you know about the states, weapons, abilities, or how to use them; you’ll just have to figure them out for the time being.\\n\\nIt’s pretty obvious that this game is not for the causal arcade-goers out there. Rick Henderson seems to be built and catered for those hardcore arcade lovers who are looking to rake up the most insane score possible and try to keep their score and title on top.\\n\\nThe base gameplay is pretty simple, with it’s WASD or Arrow keys to control the space craft’s movement. Although there is WASD as a control option, it seems to be unusable confusing due to the weapon systems key binds. This is not a big deal since you get the arrow keys (if you don’t have any issues using them)!\\n\\nRick Henderson is currently featuring a host of weapons for you to choose in a variety of situations and against a variety of enemies. For example, Turbo Blasters to use against a large area spread (with the downside being low damage), and Fire Flash (a concentrated missile fire against a slow-moving enemy with a low fire rate and high damage). The store page states that there are currently 25 different types of weapons being featured in the game, with each having their own unique attack systems and purpose.\\n\\nEach weapon is selected by their own assigned keys and has to be fired by pressing the same keys, which was a bit too odd to see. Key re-assignment is very much needed atm.\\n\\nAlso, there are these special abilities that the character\\'s ship has; each is unique and has its uses. For example, Rick’s ship has a special ability called Hologram, which allows him to project a Hologram to draw enemy fire away from his ship.\\n\\nCharacters: There are currently three unique characters featured in the game – Rick Henderson, Ben K9 & Thorahh.\\n\\nAll these characters have a small description attached to their selection screen, which gives the characters a personality, but that’s about it.\\n\\nAll three characters get their own space ship with their unique style, stats, and special abilities.\\n\\n1. Rick Henderson: Ship: TERRCORP BLADE V3, which comes with a shield charge of 10, a Speed of 10 M/S, and a special ability of projecting a decoy Hologram.\\n\\n2. Ben K9: Ship: VAMPYRE YARDS SPEAR, which comes with a shield charge of 9, a speed of 11 M/S, and a special ability of Microwarpping.\\n\\n3. Thorahh: Ship: NAKAMURA DEFENDER, shield charge of 11, speed of 9M/S, and a special ability of calling in Artillery Strikes.\\n\\n\\nVisuals: These basic visuals are nothing too elaborate, just giving a nod to classic arcade games.\\n\\nMusic and sound effects: Well-selected background music that fits well with the gameplay, as do the sound effects, which are well selected and implemented. They can get a bit loud sometimes, but they do give an added flavor to the game.\\n\\nPositives:\\n\\n+ Decent Endless shoot ‘em up\\n+ Three unique characters\\n+ Decent music and sound effects\\n+ Decent world design\\n+ Variety of unique weapons for a variety of uses\\n+ 40 different enemy types\\n\\nNegatives:\\n\\n- Bugs and Glitches\\n- Resolution auto-change!\\n- Cannot reassign key binds\\n- No heads up before gameplay\\n\\nA fun 16-bit shoot ‘em up, which pays tribute to classic endless arcade-style gameplay.\\n\\n6/10\\n\\nKey provided by the developer/publisher for review purposes. Any opinions expressed are entirely my own!,Even tho this is in EA and still rough around edges here and there, you can already find a lot in this little game - nicely variable waves, bosses with different setups, pretty awesome weapon design (some weapons I feel are one of a kind for shmups) and perks. Imagine an endless shmup with some Crimsonland sprinkled over it, I guess kids call those \"roguelites\" now.\\n\\nSo, smooth endless gameplay, fantastic soundtrack (really!), nice pixel graphics that don\\'t feel recycled (+ some cool over the top effects, love me some pixelated chromatic abberation) and no nonsense flow - at this price, it\\'s a no brainer.\\n\\nIf it gets bit more polish and oomph it will be awesome, currently its very good and very worth a try.,An eminently playable old school shooter.\\nThus far a monochrome mode has been added for the visually impaired and it works well.\\nOne can hope that text to speech is added, a Gorf style voice would be most excellant.\\nIt\\'s Early Access so things should only get better, and things are pretty good right now. Sound is good too.\\nAll in all if you like shooters this is worth a go.,I played early demos and the game has evolved so much. The gameplay is smooth, graphics effects are bit over the top but completely in the spirit of retro shoot-em-ups, soundtrack is fantastic, now I just need to practice to suck less.,Rick Henderson is a horizontal shmup with a ton of collectible guns to suit your playstyle. The soundtrack is fantastic and the graphics very colorful. I experienced the occasional slowdown but that is typical for an early access game. Recommended!,For all who loved the 90s games it\\'s a must have. Didn\\'t we all play games R-Type, X-Out, Z-Out etc? This is your alredy high polised ticket back. Out of the box and no issues concerning controllers and stuff. Many retro games out there but only few that are Amiga-like and mony of those again just disappoint (Kick Off revival etc). This is a quality piece of work and I hope the studio will release more \"amiga games\" like this. Music is plain 10/10, graphics is high polied HD 16bit and no 8.5bit clustermess. It\\'s just about the right degree. Permadeath is done the best way possible. Yes, you die but never because of ONE mistake. So it also never becomes unfair. It\\'s also no rinse and repeat to death permadeath as every run is different. Game is already more polised than many final releases. Clean GUI and menu, no fuzzing around. For the asking price of a summer after 2 years but already during EA ... this is a steal.,Great atmosphere and music, real old school 80s arcade space game feeling :),Not biggest fan of horizontal shooters, but i\\'m enjoying this one. Love the fact that i can choose heavier ship so i don\\'t die in first 3 waves :),Awesome side scrolling shooter resembling some of the retro Konami style games.\\nLevels and swarms are random, and no two are the same. One of the best features are the Bosses which change their attacks between playthroughs (loops) so you have to keep adapting.\\nWould like to see possible co-op or multiplayer modes in the future.,Rick Henderson is a really beautiful retro-style 2D space shooter. The stunning pixel-based graphics and stellar soundtrack make it an awesome experience. The game is quite difficult, particularly the bosses (damn Devastator, hahaha), so there will be lots of restarts. However, every restart feels uniquely different with different settings (space-scapes), different enemies and different arrangements of enemies, and vastly different backtracks with each re-spawn. I mentioned that it\\'s retro-style, but the fluidity and graphics are quite contemporary and just beautiful. The variety of weapons and upgrades is massive. I am really impressed by this game and I highly recommend it!\\n\\nPS the developer support and response speed is as fast as the game itself. They\\'re as good as their game! Well done guys.,Nice but kinda smallish game similar to sterenden (or whatever) with some ravin\\' music\\nIts fun and challangeing but i feel it could use some more work on the enemy patterns and such as you tend to get the same configuration of enemies alot and some of them have enemies coming from behind and theyre no threath at all but slow to appear and slow to kill and gets kinds boring after 10 times things like that should be reworked. otherwise it plays and feels good.,If you\\'re into the retro shoots back in the 90s, this one is totally for you! Brings you right back home with the classic feel and the action is fun! With boss fights and difficulty modes, certainly can\\'t ask for more than that.\\n\\nIt\\'s also in Early Access which is even better!\\n\\nYou can get hooked pretty quick!,Great game, needs polishing.\\n\\nI was a kickstarter backer back in the day, and I\\'ve watched the game evolve in the past year. The game has a great 80\\'s arcade shooter vibe, with some unique elements like having 3 weapon types at all times, and enemies vulnerable and resistant to each type.\\n\\nThe biggest downside is that a lot of the features ended up on the cutting room floor, since it\\'s basically a 1-person indie title.\\n\\nOverall it\\'s fun, unpolished indie gem in a world of perpetually disappointing AAA games.,This game is absolutely A-W-E-S-O-M-E! 😎\\nI just can\\'t stop playing it. 🎮 And I am loving it! 😍\\n\\nFor a very long time I haven\\'t played such great and addictive game.\\nWith great soundtrack, graphics and gameplay it teleported me in the good old times of Amiga when those kinds of shoot \\'em up games were popular. I liked to play Project-X and I thought I would never find a game which will give me same excitement. But after so many years I found it and it is called RICH HENDERSON!\\n\\nGREAT JOB FAT PUG STUDIO! 👍👏🤩,Rick Henderson is a fantastic classic side-scroller shooter, this brings me back to the classic shooters I used to enjoy. I recommend this game to anyone that loves classic shooters, plus the soundtrack is amazing.,A totally fun and beautiful looking 2D space shooter.,'},\n",
       " {'game_name': 'Power & Revolution 2021 Edition',\n",
       "  'comments': 'good realistic political game, expands on the 2020 edition by introducing a more realistic way to vaccinate & a much more realistic simulation of the EU.,I will give you my insights of the first look while playing as Lithuania.\\n\\nI like:\\n- EU financial involvement in mostly everything\\n- Debt tab changes\\n- Vaccination priorities and contracts\\n- Option for foreign exchange students\\n- Option for scientific cooperation between countries on a specific discovery\\n- Days of Culture to celebrate a foreign country traditions\\n- 5G Internet\\n- Organisations\\' data (population & GDP)\\n- Cause of death tab\\n- Map changes\\n\\nI dislike:\\n- No significant changes to migration system\\n- Wrong data (population, illegal immigration, ethnic groups, cabinet composition, political tendency, etc.)\\n- EU regional development map being a complete mess because, for example, Ile-de-France in France is coloured in red just like Vidzeme in Latvia, however provincial tab says Ile-de-France has 3* stars based on category of EU development, while Vidzeme - only 1*. Thus map is showing wrong data. Moreso, I would expect it list regions rather than member states.\\n- Still no option to rename objects (like solar plants), cities or regions.\\n\\nGenerally speaking, my first impression is a soft \"Yes\" for as long as I don\\'t face a (serious) bug but I guess if some of those \"I dislike\" parts would get fixed or added, it would become a hard \"YES!\",yes,'},\n",
       " {'game_name': 'Here Comes Niko!',\n",
       "  'comments': 'Here Comes Niko is pitched as “a game for tired people” and honestly that’s exactly how I feel while playing it. It’s the kind of game you can relax and vibe out to, play for a few minutes without worry and hop back in later without worry. There are no permanent consequences, no omnipresent conflict… but at the same time, as you further the narrative and find secrets, you’ll start to understand Niko as a character more. Their struggles which no amount of simply being happy and cheerful can overcome. I don’t want to spoil things for you, but there’s absolutely a deeper understanding of some of life’s unfortunate hardships here.\\n\\nMore than anything, it\\'s a game about realizing that not everybody will always have your best interest at heart. Which is why it’s so much better to hold onto the friends who actually do care about you. At $25 USD, which is about what you should be expecting to pay for indie games bare-minimum these days, I can say that Here Comes Niko! scratched an itch of kinder, non-violent games that I’ve been craving as of late. Highly recommended to fans of A Hat In Time, Banjo & Kazooie, and other collectathon style games. Just make sure you don’t mash through the dialogue, as the game is both hilarious and insightful all the while.,On one hand it\\'s cute as hell.\\n\\nSeriously.\\n\\nCute as heck. There\\'s alot of heart put into this game. The artstyle is beautiful and It\\'s one of those really chill relaxing games you can play and just be comfy with a bunch of colourful and quirky characters you can\\'t help but like.\\n\\nBut....\\n\\nIt\\'s not polished. Noticeably not polished and that\\'s not just bug wise which... quite frankly are par for the course with pc releases and can be patched out, but the actual gameplay itself just doesn\\'t really seem to flow all that well. Don\\'t go in expecting it to be as good as hat in time, because well.... it\\'s not and it\\'s not fair to compare the two. Having the gears for breakfast name on it has put alot of unwarranted expectations on this title. But for a indie game studios first release, well its pretty damn good and i hope to see more from them in the future.\\n\\nAll in all i\\'d still recommended it.,I expected more...\\n\\nMaybe it\\'s just me but this game feels very empty.\\nThe island are pretty basic and not that special. The NPCs are okay most of them only have 4 to 5 textboxes and nothing more.\\nIt feels like that the NPCs got randomly scrabbled over the islands and you have to check every corner twice to make sure you don\\'t miss any. Story is okay.\\nGameplay is meh. Go to a NPC, talk with it and get an item or do simple platformer stuff and thats it.\\n\\nOfc my opinion can change after some time but rn the game is just a meh for me.,I was sad and tired, then i played this and now i\\'m not.,Lemme just preface this by saying that if you go into this game expecting A Hat in Time 2, you are going to be sorely upset. This is a \"turn your brain off\" game to the max. This game isn\\'t hard. It isn\\'t challenging. There is no way to fail.\\n\\nIn this game, you go around, do tasks, talk to characters, win. This is it. I can\\'t say much more than that, If it sounds boring to you, I\\'d say try it, refund if you don\\'t like it. I enjoyed it personally, but I\\'d definitely say the game is solid 7/10 material. It\\'s not amazing or anything, but I had decent fun with it.\\n\\nDefinitely think 25 dollars is pushing it excessively, though. This game is 4 hours long. It has zero right to be as expensive as it is. I have no idea if it\\'s that expensive specifically because Gears For Breakfast published it or if they think it\\'s worth it, but... no. I\\'d definitely say it\\'s a bit pricey for what you get. 15 dollars would be a much more reasonable price.,It\\'s an amazing game, been waiting for nearly a year for it to release. As you\\'ve probably heard a thousand times already, it\\'s one of the best \"collectathon\" 3d platformers since Hat in Time. Would almost certainly recommend if you enjoyed that game.\\n\\nHOWEVER, with that being said, you should have somewhat different expectations from A Hat in Time. While A Hat in Time is very precise and polished, this game\\'s mechanics are a bit more laid back. You can climb walls indefinitely by mashing jump button; you can do the dive combo speed thingy (like Hat in Time) by mashing the dive button, and it can be done indefinitely (unlike the precise timing required for the dive-dash in Hat in Time). You\\'ll find a lot of the time when playing this game the game will play itself. Niko will climb walls, do wall jumps, ledge grab/jump very fast and automatically. There\\'s swimming, but you\\'re able to skip across the water effortlessly. It feels absolutely wonderful to speed around the map, but it does feel like you have less precise control over how you move in comparison to Hat in Time. Overall, there are just much less consequences for messing up a jump. The game is not as much about precise platforming challenges as much as it is about moving around small, safe islands completing mini-games.\\n\\n---\\n\\nMost of the mini-games/challenges are great (from what I\\'ve seen getting 100% of the coins available the first time in each area up until the end of the game), but many are reused each area with varying amount of variation between each, those include ->\\n\\n: these are always delightful, different, and thought-provoking.\\n: these have a lot of unique variety in each level, sometimes a little wonky though.\\n: I\\'m able to complete these without realizing it, and they\\'re all the same.\\n: these are just always just super annoying and tedious after the first time.\\n: these pop up more and more over time, I think these are supposed to be this game\\'s version of Time Rifts? Unfortunately, they\\'re either overly simple platforming challenges, or annoying scavenger hunts for bones hidden around the small map.\\n: this is just the worst. It\\'s just a painful scavenger hunt, but your controls are made significantly worse. Very reminiscent of Mario Sunshine\\'s Watermelon Festival. Just a bunch of terrible physics-engine features thrown onto the player to create an uncreative, headache-inducing challenge. Fortunately, there\\'s only two of these throughout the whole game (may be more in the post-game, haven\\'t gone that far yet).\\n\\nEverything else is a blast, but there\\'s definitely something a bit lacking if you were more interested in the platforming/combat side of things from Hat or other platformers.\\n\\nOne task I loved in particular was the one from the gaming kid. He tells the player to get from point A to point B without touching the ground (kinda like the ground is lava sort of thing). This was where the game was at its peak, requiring the player to combine the powerful platforming capabilities of Niko with their knowledge of the map to reach a destination under specific conditions. It\\'s one of those things that feels so nicely crafted, a puzzle really integrated into the world. I wish a lot more of the game was like this.\\n\\nThere\\'s another task where you must bring an old turtle to their partner, but you cannot jump more than a certain amount of times. Similar to the previously described task, it requires you to get from point A to B using your wits. Less platforming is required, but it\\'s still a delight!\\n\\n---\\n\\nThe story is minimal, yet fantastic and engaging. Dialog is perfect. The ending could not have been executed any better. The story experience as a whole is something I will never forget; though, this may be because it\\'s something I connect to on a deep personal level.\\n\\n---\\n\\nNow there are a few places where there isn\\'t as much polish in comparison to a Hat in Time. Of course, I played this game the moment it was released, so it\\'s very possible these may get fixed in the future, and they\\'re not that game-ruining in the first place. Just stuff that prevents this game from lighting the same gameplay-comfort spark Hat in Time did. Sometimes UI will overlap (message box over the list of fish in the fishing mini-games). The virtual pet will pop-in and out during cutscenes. The camera gets stuck on some occasions. In fact, Niko herself will, on rare occasion, get stuck on some invisible geometry on smooth ground? You just need to jump up to fix it, but it ruins the fun, fast movement often. The frog in a tie will frequently point you towards tasks you\\'ve already completed, sometimes even when there are still incomplete tasks in the world.\\n\\nVery rarely, the characters/objects can look flat from above or certain side angles, which makes sense considering the mix of 2d and 3d, but I wish more thought was put into making things a bit more visible from all perspectives or creating challenges that didn\\'t encourage you to point your camera from a higher point (like the flower puzzles). Surely, even when the camera is pointing down, Niko could still remain just a little tilted towards the camera? (Don\\'t get me wrong though, the mix of 2d and 3d is done ABSOLUTELY fabulously and is extremely inspiring. I LOVE it to death. This is a very small critique).\\n\\n---\\n\\nUnfortunately, there is no hub world. The game works similarly to Mario Odyssey, as you move in a linear fashion from one \"world\" to the next (you can go back and re-visit old ones at any time with additional content that appears over time). Not a big deal, but still something I wish was included.\\n\\n---\\n\\nDespite focusing on the negative aspects, this game is fun, I can\\'t wait to play more. Like, seriously, anything I didn\\'t mention so far, please imagine being as perfect as possible. This game was well worth the wait. It\\'s a masterpiece, and I would still 100% recommend playing it now.,frog,Frog gaming,I\\'m really enjoying my time with the game so far!! Its a nice chill collectathon.\\nMovement feels smooth, the artstyle is wonderful, music is chill, writing is funny, minigames are fun, and there\\'s a ton of stuff to collect! This game is a vibe and I\\'m here for it!\\n\\nThe only thing I would like to see added is an option for vsync! It tears on my tv constantly,There are frogs who hire you to be a good friend and now I feel happy inside,Playing the game is awesome. It\\'s short but very sweet (maybe a bit too short for how much it is?) but what you get is really nice. The dialogue is great, and most of the time funny, and the movement options are pretty nice.\\n\\nI\\'d maybe wait a bit, because as of the time of this review the game still has a few bugs (that don\\'t ruin the gameplay, just are annoying), but they\\'re being worked on.\\n\\nThe game also works well on Linux, although I personally could not get my controller to work.,'}]"
      ]
     },
     "execution_count": 3,
     "metadata": {},
     "output_type": "execute_result"
    }
   ],
   "source": [
    "driver_path = r\"C:\\Users\\danie\\Downloads\\chromedriver_win32\\chromedriver.exe\"\n",
    "driver = wb.Chrome(driver_path)\n",
    "driver.get(\"https://store.steampowered.com/games/\")\n",
    "time.sleep(5)\n",
    "\n",
    "games_urls = []\n",
    "urls = driver.find_elements_by_xpath('//*[@id=\"NewReleasesRows\"]/a')\n",
    "for i in urls:\n",
    "    games_urls.append(i.get_attribute(\"href\"))\n",
    "games_urls = games_urls[0:5]\n",
    "\n",
    "games_comments_list = []\n",
    "\n",
    "for i in games_urls:\n",
    "    driver.get(i)\n",
    "    time.sleep(5)\n",
    "    \n",
    "    games_comments_dict={}\n",
    "    \n",
    "    #extract game name\n",
    "    games_comments_dict[\"game_name\"] = driver.find_element_by_xpath('//*[@id=\"appHubAppName\"]').text\n",
    "    \n",
    " \n",
    "    actions = ActionChains(driver)\n",
    "    actions.move_to_element(driver.find_element_by_class_name(\"review_box\")).perform()\n",
    "    time.sleep(5)\n",
    "    \n",
    "    #extract comments\n",
    "    review_elements = driver.find_elements_by_css_selector(\".review_box .content\")\n",
    "    comments = \"\"\n",
    "    for element in review_elements:\n",
    "        try:\n",
    "            comments += element.text + \",\"\n",
    "        except:\n",
    "            print(\"no comment\")\n",
    "    games_comments_dict[\"comments\"] = comments\n",
    "    \n",
    "    driver.back()\n",
    "    \n",
    "    games_comments_list.append(games_comments_dict)    \n",
    "    \n",
    "games_comments_list"
   ]
  },
  {
   "cell_type": "code",
   "execution_count": 4,
   "id": "4b956333",
   "metadata": {},
   "outputs": [
    {
     "data": {
      "text/html": [
       "<div>\n",
       "<style scoped>\n",
       "    .dataframe tbody tr th:only-of-type {\n",
       "        vertical-align: middle;\n",
       "    }\n",
       "\n",
       "    .dataframe tbody tr th {\n",
       "        vertical-align: top;\n",
       "    }\n",
       "\n",
       "    .dataframe thead th {\n",
       "        text-align: right;\n",
       "    }\n",
       "</style>\n",
       "<table border=\"1\" class=\"dataframe\">\n",
       "  <thead>\n",
       "    <tr style=\"text-align: right;\">\n",
       "      <th></th>\n",
       "      <th>comments</th>\n",
       "    </tr>\n",
       "    <tr>\n",
       "      <th>game_name</th>\n",
       "      <th></th>\n",
       "    </tr>\n",
       "  </thead>\n",
       "  <tbody>\n",
       "    <tr>\n",
       "      <th>Toodee and Topdee</th>\n",
       "      <td>This game slaps!,A devilishly clever puzzle pl...</td>\n",
       "    </tr>\n",
       "    <tr>\n",
       "      <th>Stellar Warfare</th>\n",
       "      <td>A Space RTS game that has great base building ...</td>\n",
       "    </tr>\n",
       "    <tr>\n",
       "      <th>Rick Henderson</th>\n",
       "      <td>Like this Review? Follow The Cpt Froggy Club C...</td>\n",
       "    </tr>\n",
       "    <tr>\n",
       "      <th>Power &amp; Revolution 2021 Edition</th>\n",
       "      <td>good realistic political game, expands on the ...</td>\n",
       "    </tr>\n",
       "    <tr>\n",
       "      <th>Here Comes Niko!</th>\n",
       "      <td>Here Comes Niko is pitched as “a game for tire...</td>\n",
       "    </tr>\n",
       "  </tbody>\n",
       "</table>\n",
       "</div>"
      ],
      "text/plain": [
       "                                                                          comments\n",
       "game_name                                                                         \n",
       "Toodee and Topdee                This game slaps!,A devilishly clever puzzle pl...\n",
       "Stellar Warfare                  A Space RTS game that has great base building ...\n",
       "Rick Henderson                   Like this Review? Follow The Cpt Froggy Club C...\n",
       "Power & Revolution 2021 Edition  good realistic political game, expands on the ...\n",
       "Here Comes Niko!                 Here Comes Niko is pitched as “a game for tire..."
      ]
     },
     "execution_count": 4,
     "metadata": {},
     "output_type": "execute_result"
    }
   ],
   "source": [
    "games_comments = pd.DataFrame(games_comments_list)\n",
    "games_comments.set_index(\"game_name\", inplace = True)\n",
    "games_comments"
   ]
  },
  {
   "cell_type": "code",
   "execution_count": null,
   "id": "efa49ec4",
   "metadata": {},
   "outputs": [],
   "source": []
  }
 ],
 "metadata": {
  "kernelspec": {
   "display_name": "Python 3",
   "language": "python",
   "name": "python3"
  },
  "language_info": {
   "codemirror_mode": {
    "name": "ipython",
    "version": 3
   },
   "file_extension": ".py",
   "mimetype": "text/x-python",
   "name": "python",
   "nbconvert_exporter": "python",
   "pygments_lexer": "ipython3",
   "version": "3.8.8"
  }
 },
 "nbformat": 4,
 "nbformat_minor": 5
}
