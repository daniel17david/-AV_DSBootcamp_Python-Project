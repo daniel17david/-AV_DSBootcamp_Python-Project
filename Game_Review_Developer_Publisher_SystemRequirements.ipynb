{
  "nbformat": 4,
  "nbformat_minor": 0,
  "metadata": {
    "colab": {
      "name": "Game_Review_Developer_Publisher_SystemRequirements.ipynb",
      "provenance": [],
      "collapsed_sections": []
    },
    "kernelspec": {
      "name": "python3",
      "display_name": "Python 3"
    },
    "language_info": {
      "name": "python"
    }
  },
  "cells": [
    {
      "cell_type": "code",
      "metadata": {
        "id": "8X3i2_IgdBXf"
      },
      "source": [
        "import urllib.request, urllib.parse, urllib.error\n",
        "from bs4 import BeautifulSoup\n",
        "import ssl\n",
        "\n",
        "# Ignore SSL certificate errors\n",
        "ctx = ssl.create_default_context()\n",
        "ctx.check_hostname = False\n",
        "ctx.verify_mode = ssl.CERT_NONE\n",
        "\n",
        "url = 'https://store.steampowered.com/games/'\n",
        "html = urllib.request.urlopen(url, context=ctx).read()\n",
        "soap = BeautifulSoup(html, 'html.parser')\n",
        "\n",
        "\n"
      ],
      "execution_count": 1,
      "outputs": []
    },
    {
      "cell_type": "code",
      "metadata": {
        "id": "oZqMQ9iLd9gO"
      },
      "source": [
        "game_title_tags = soap.find_all('div', {'class' :'tab_item_name' })\n",
        "game_title_links = soap.find_all('a', {'class': 'tab_item'})"
      ],
      "execution_count": 2,
      "outputs": []
    },
    {
      "cell_type": "code",
      "metadata": {
        "colab": {
          "base_uri": "https://localhost:8080/"
        },
        "id": "1h-NHsiXekqy",
        "outputId": "659981d7-b0b3-4e53-a106-8a666ea70da3"
      },
      "source": [
        "# Extract game_name\n",
        "game_name = []\n",
        "limit = 4\n",
        "for index, tag in enumerate(game_title_tags):\n",
        "    game_name.append(tag.text)\n",
        "    if index == limit:\n",
        "        break\n",
        "game_name"
      ],
      "execution_count": 3,
      "outputs": [
        {
          "output_type": "execute_result",
          "data": {
            "text/plain": [
              "['Toodee and Topdee',\n",
              " 'Stellar Warfare',\n",
              " 'Rick Henderson',\n",
              " 'Power & Revolution 2021 Edition',\n",
              " 'Here Comes Niko!']"
            ]
          },
          "metadata": {
            "tags": []
          },
          "execution_count": 3
        }
      ]
    },
    {
      "cell_type": "code",
      "metadata": {
        "colab": {
          "base_uri": "https://localhost:8080/"
        },
        "id": "daglmTmuf1yM",
        "outputId": "1d97a4a3-9e40-4dde-95b1-8a9245a1775f"
      },
      "source": [
        "# Extract game_link\n",
        "game_link = []\n",
        "limit = 4\n",
        "for index, tag in enumerate(game_title_links):\n",
        "    game_link.append(tag['href'])\n",
        "    if index == limit:\n",
        "        break\n",
        "game_link"
      ],
      "execution_count": 4,
      "outputs": [
        {
          "output_type": "execute_result",
          "data": {
            "text/plain": [
              "['https://store.steampowered.com/app/1303950/Toodee_and_Topdee/?snr=1_1452_4__103',\n",
              " 'https://store.steampowered.com/app/1113030/Stellar_Warfare/?snr=1_1452_4__103',\n",
              " 'https://store.steampowered.com/app/1023790/Rick_Henderson/?snr=1_1452_4__103',\n",
              " 'https://store.steampowered.com/app/1683320/Power__Revolution_2021_Edition/?snr=1_1452_4__103',\n",
              " 'https://store.steampowered.com/app/925950/Here_Comes_Niko/?snr=1_1452_4__103']"
            ]
          },
          "metadata": {
            "tags": []
          },
          "execution_count": 4
        }
      ]
    },
    {
      "cell_type": "code",
      "metadata": {
        "colab": {
          "base_uri": "https://localhost:8080/"
        },
        "id": "x3voJpkkLWmk",
        "outputId": "a75ce4cf-953c-42f7-a2ec-c347d8f3bf81"
      },
      "source": [
        "for i in range(0,5):\n",
        "  print(\"Game Name:\",game_name[i])\n",
        "  url = game_link[i]\n",
        "  html = urllib.request.urlopen(url, context=ctx).read()\n",
        "  soap2 = BeautifulSoup(html, 'html.parser')\n",
        "\n",
        "  # Extract Positive_Review,Developer,Publisher\n",
        "  positive_review = soap2.find_all('span', {'class': 'responsive_hidden'})[0].text.strip()\n",
        "  print(\"Positive_Review:\",positive_review)\n",
        "  developer =soap2.find_all('div', {'class': 'summary column', 'id':'developers_list'})[0].text.strip()\n",
        "  print(\"Developer:\",developer)\n",
        "  publisher =soap2.find_all('div', {'class': 'summary column'})[2].text.strip()\n",
        "  print(\"Publisher:\",publisher)\n",
        "  \n",
        "  # Extract System Requirements\n",
        "  print(\"System Requirements:\")\n",
        "  for i in soap2.find_all(attrs = {'class':'sysreq_contents'}):\n",
        "    al=i.find('ul').find_all('li')\n",
        "    for i in range(len(al)):\n",
        "        print(al[i].text.strip())\n",
        "         \n",
        "  print('')\n",
        "        "
      ],
      "execution_count": 5,
      "outputs": [
        {
          "output_type": "stream",
          "text": [
            "Game Name: Toodee and Topdee\n",
            "Positive_Review: :\n",
            "Developer: dietzribi\n",
            "Publisher: dietzribi\n",
            "System Requirements:\n",
            "OS: Windows 7 and above\n",
            "Processor: i3\n",
            "Memory: 4 GB RAM\n",
            "Graphics: Intel HD 4000\n",
            "Storage: 500 MB available space\n",
            "\n",
            "Game Name: Stellar Warfare\n",
            "Positive_Review: :\n",
            "Developer: Tense Games\n",
            "Publisher: Tense Games\n",
            "System Requirements:\n",
            "OS: Windows 10\n",
            "Processor: Core i3\n",
            "Memory: 2046 MB RAM\n",
            "Graphics: GTX 780\n",
            "Storage: 3000 MB available space\n",
            "\n",
            "Game Name: Rick Henderson\n",
            "Positive_Review: (14)\n",
            "Developer: Fat Pug Studio\n",
            "Publisher: Fat Pug Studio\n",
            "System Requirements:\n",
            "OS: Microsoft® Windows® XP / Vista / 7 / 8 / 10\n",
            "Processor: 2.4 Ghz\n",
            "Memory: 8 GB RAM\n",
            "Graphics: Nvidia GT710/AMD RX550\n",
            "DirectX: Version 11\n",
            "Storage: 880 MB available space\n",
            "Sound Card: Not required\n",
            "\n",
            "Game Name: Power & Revolution 2021 Edition\n",
            "Positive_Review: :\n",
            "Developer: Eversim\n",
            "Publisher: Eversim\n",
            "System Requirements:\n",
            "Requires a 64-bit processor and operating system\n",
            "OS: Windows 10, 8, 7\n",
            "Processor: 1.6 GHZ\n",
            "Memory: 4 GB RAM\n",
            "Storage: 6 GB available space\n",
            "\n",
            "Game Name: Here Comes Niko!\n",
            "Positive_Review: (102)\n",
            "Developer: Frog Vibes\n",
            "Publisher: Gears for Breakfast\n",
            "System Requirements:\n",
            "Requires a 64-bit processor and operating system\n",
            "OS: Windows 10\n",
            "Processor: 3.0 GHz processor\n",
            "Memory: 4 GB RAM\n",
            "Storage: 2 GB available space\n",
            "\n"
          ],
          "name": "stdout"
        }
      ]
    }
  ]
}